{
 "cells": [
  {
   "cell_type": "code",
   "execution_count": 23,
   "id": "cbd399a7-c5ce-4267-9b8f-b1c1fc2e8e80",
   "metadata": {},
   "outputs": [],
   "source": [
    "import numpy as np\n",
    "import torch\n",
    "import warnings\n",
    "warnings.filterwarnings('ignore')\n",
    "import matplotlib.pyplot as plt\n",
    "import seaborn as sns\n",
    "\n",
    "import sys\n",
    "import os\n",
    "sys.path.insert(0, os.path.abspath('../../code/'))\n",
    "import utils \n",
    "from utils.functional_graphs import create_graph_dataset\n",
    "from utils.models import Attention2Conv, Attention3Conv"
   ]
  },
  {
   "cell_type": "code",
   "execution_count": 2,
   "id": "d82c6c1a-7512-44ff-9e03-fbce44b24127",
   "metadata": {},
   "outputs": [
    {
     "name": "stdout",
     "output_type": "stream",
     "text": [
      "(1, 100, 100)\n",
      "[0]\n"
     ]
    }
   ],
   "source": [
    "fcs = np.load('../../local/fcs/combined/sparse_fcs_1316_subjects.npy')\n",
    "fc = fcs[:1]\n",
    "del fcs\n",
    "print(fc.shape)\n",
    "labels = np.load('../../local/gender_labels/combined_gender_labels_1316_subjects.npy')\n",
    "label = labels[:1]\n",
    "print(label)"
   ]
  },
  {
   "cell_type": "code",
   "execution_count": 12,
   "id": "5a29363a-b9ca-48dc-a76d-0694f8126315",
   "metadata": {},
   "outputs": [
    {
     "name": "stdout",
     "output_type": "stream",
     "text": [
      "\n",
      "First Graph: Data(x=[100, 8], edge_index=[2, 3614], edge_attr=[3614], y=[1])\n",
      "=============================================================\n",
      "Number of nodes: 100\n",
      "Number of edges: 3614\n",
      "Average node degree: 36.14\n",
      "Has isolated nodes: False\n",
      "Has self-loops: True\n",
      "Is undirected: False\n"
     ]
    }
   ],
   "source": [
    "root = '../../local/graph_datasets/single_graph/'\n",
    "dataset = create_graph_dataset(sparse_fcs=fc, root=root, labels=label)\n",
    "graph = dataset[0]\n",
    "print()\n",
    "print(f'First Graph: {graph}')\n",
    "print('=============================================================')\n",
    "print(f'Number of nodes: {graph.num_nodes}')\n",
    "print(f'Number of edges: {graph.num_edges}')\n",
    "print(f'Average node degree: {graph.num_edges / graph.num_nodes:.2f}')\n",
    "print(f'Has isolated nodes: {graph.has_isolated_nodes()}')\n",
    "print(f'Has self-loops: {graph.has_self_loops()}')\n",
    "print(f'Is undirected: {graph.is_undirected()}')"
   ]
  },
  {
   "cell_type": "code",
   "execution_count": 13,
   "id": "0ad0004d-a743-43c6-a9b7-bfc27623ce30",
   "metadata": {},
   "outputs": [],
   "source": [
    "def get_node_importance(model, graph):\n",
    "    model.eval()\n",
    "    graph = graph.to(device)\n",
    "    _, attn_scores = model(graph.x, graph.edge_index, graph.batch)\n",
    "    return attn_scores.cpu().detach().numpy()"
   ]
  },
  {
   "cell_type": "code",
   "execution_count": 20,
   "id": "eecbfe8f-452c-42fe-9d2c-9a24f2669750",
   "metadata": {},
   "outputs": [
    {
     "name": "stdout",
     "output_type": "stream",
     "text": [
      "4 models\n",
      "results/fc_data/models/2conv/fc2c_model_p10.5_p20.2\n",
      " Nodes: [12. 19. 34. 27. 42.] \n",
      "\n",
      "results/fc_data/models/2conv/fc2c_model_p10.5_p20.1\n",
      " Nodes: [80. 12. 42. 94. 33.] \n",
      "\n",
      "results/fc_data/models/2conv/fc2c_model_p10.3_p20.1\n",
      " Nodes: [19. 26. 27. 80. 94.] \n",
      "\n",
      "results/fc_data/models/2conv/fc2c_model_p10.3_p20.2\n",
      " Nodes: [19. 27. 26.  3. 42.] \n",
      "\n"
     ]
    }
   ],
   "source": [
    "path = 'results/fc_data/models/2conv/'\n",
    "models = [path + file for file in os.listdir(path)]\n",
    "print(f'{len(models)} models')\n",
    "device = torch.device('cpu')\n",
    "for m in models:\n",
    "    model = Attention2Conv(num_node_features=dataset.num_features, hidden_channels=128, dropout_rate=0.5, edge_dropout_rate=0.1)\n",
    "    model.load_state_dict(torch.load(m, weights_only=False))\n",
    "    \n",
    "    node_importance = get_node_importance(model, graph)\n",
    "    importance_factor = np.concatenate([np.expand_dims(range(100),axis=0), node_importance.T])\n",
    "    indices = np.argsort(importance_factor[1])[::-1]\n",
    "    importance_factor = importance_factor[:, indices]\n",
    "\n",
    "    print(m+'\\n', f'Nodes: {np.round(importance_factor[0,:5], 2)}','\\n')"
   ]
  },
  {
   "cell_type": "code",
   "execution_count": 24,
   "id": "6bf4e8c1-6743-41a6-88fb-9b2dbb1c5b86",
   "metadata": {},
   "outputs": [
    {
     "name": "stdout",
     "output_type": "stream",
     "text": [
      "4 models\n",
      "results/fc_data/models/3conv/fc3c_model_p10.5_p20.2\n",
      " Nodes: [ 5.  4. 27. 26. 19.] \n",
      "\n",
      "results/fc_data/models/3conv/fc3c_model_p10.3_p20.2\n",
      " Nodes: [ 5. 12.  4. 33. 15.] \n",
      "\n",
      "results/fc_data/models/3conv/fc3c_model_p10.5_p20.1\n",
      " Nodes: [ 5.  4.  0. 12.  7.] \n",
      "\n",
      "results/fc_data/models/3conv/fc3c_model_p10.3_p20.1\n",
      " Nodes: [ 4.  5.  0. 19. 42.] \n",
      "\n"
     ]
    }
   ],
   "source": [
    "path = 'results/fc_data/models/3conv/'\n",
    "models = [path + file for file in os.listdir(path)]\n",
    "print(f'{len(models)} models')\n",
    "device = torch.device('cpu')\n",
    "for m in models:\n",
    "    model = Attention3Conv(num_node_features=dataset.num_features, hidden_channels=128, dropout_rate=0.5, edge_dropout_rate=0.1)\n",
    "    model.load_state_dict(torch.load(m, weights_only=False))\n",
    "    \n",
    "    node_importance = get_node_importance(model, graph)\n",
    "    importance_factor = np.concatenate([np.expand_dims(range(100),axis=0), node_importance.T])\n",
    "    indices = np.argsort(importance_factor[1])[::-1]\n",
    "    importance_factor = importance_factor[:, indices]\n",
    "\n",
    "    print(m+'\\n', f'Nodes: {np.round(importance_factor[0,:5], 2)}','\\n')"
   ]
  },
  {
   "cell_type": "code",
   "execution_count": null,
   "id": "8d27bf34-72fc-42a1-912b-4054ca85a0c6",
   "metadata": {},
   "outputs": [],
   "source": []
  }
 ],
 "metadata": {
  "kernelspec": {
   "display_name": "Python 3 (ipykernel)",
   "language": "python",
   "name": "python3"
  },
  "language_info": {
   "codemirror_mode": {
    "name": "ipython",
    "version": 3
   },
   "file_extension": ".py",
   "mimetype": "text/x-python",
   "name": "python",
   "nbconvert_exporter": "python",
   "pygments_lexer": "ipython3",
   "version": "3.9.0"
  }
 },
 "nbformat": 4,
 "nbformat_minor": 5
}
