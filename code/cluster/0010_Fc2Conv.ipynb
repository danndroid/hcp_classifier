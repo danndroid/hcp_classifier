{
 "cells": [
  {
   "cell_type": "code",
   "execution_count": null,
   "id": "78c80315-d33d-479c-8a59-1ddeef0a98f3",
   "metadata": {},
   "outputs": [],
   "source": [
    "import numpy as np\n",
    "import pandas as pd\n",
    "import matplotlib.pyplot as plt\n",
    "import seaborn as sns\n",
    "import importlib\n",
    "\n",
    "import torch\n",
    "import torch.nn as nn\n",
    "from torch_geometric.data import DataLoader\n",
    "\n",
    "import warnings\n",
    "warnings.filterwarnings('ignore')"
   ]
  },
  {
   "cell_type": "code",
   "execution_count": null,
   "id": "510b3a05-0118-4adb-a04d-24fd3f7d4197",
   "metadata": {},
   "outputs": [],
   "source": [
    "import sys\n",
    "import os\n",
    "sys.path.insert(0, os.path.abspath('../../code/'))\n",
    "import utils\n",
    "from utils.functional_graphs import create_graph_dataset\n",
    "from utils.models import Attention2Conv\n",
    "from utils.traning_functions import train_process, test_process"
   ]
  },
  {
   "cell_type": "code",
   "execution_count": null,
   "id": "8ac55745-c9c6-4871-9b95-bd7403a62f19",
   "metadata": {},
   "outputs": [],
   "source": [
    "importlib.reload(utils)"
   ]
  },
  {
   "cell_type": "code",
   "execution_count": null,
   "id": "ea488eeb-8703-44a8-b465-064473ebf34d",
   "metadata": {},
   "outputs": [],
   "source": [
    "import warrior as war"
   ]
  },
  {
   "cell_type": "code",
   "execution_count": null,
   "id": "08bdccdc-de4f-4dc7-a30c-a8d958999628",
   "metadata": {},
   "outputs": [],
   "source": [
    "fcs = np.load('../../local/fcs/combined/sparse_fcs_1316_subjects.npy')\n",
    "print(fcs.shape)\n",
    "labels = np.load('../../local/gender_labels/combined_gender_labels_1316_subjects.npy')\n",
    "print(labels.shape)"
   ]
  },
  {
   "cell_type": "code",
   "execution_count": null,
   "id": "ed6b567b-4e9d-44d3-8c17-ee72ac4b9240",
   "metadata": {},
   "outputs": [],
   "source": [
    "N_GRAPHS = fcs.shape[0]\n",
    "PERCENT = 0.75 \n",
    "N_TRAINING_SAMPLES = int(np.floor(PERCENT*N_GRAPHS))\n",
    "#N_TRAINING_SAMPLES, N_TRAINING_SAMPLES/N_GRAPHS"
   ]
  },
  {
   "cell_type": "code",
   "execution_count": null,
   "id": "8b8dc134-2b92-42fb-be06-1080918d4e0e",
   "metadata": {},
   "outputs": [],
   "source": [
    "root = '../../local/graph_datasets/hcp_1316/'\n",
    "dataset = create_graph_dataset(sparse_fcs=fcs, root=root, labels=labels)"
   ]
  },
  {
   "cell_type": "code",
   "execution_count": null,
   "id": "74bf2f05-99dd-4497-a5f9-7cc1e0ad4305",
   "metadata": {},
   "outputs": [],
   "source": [
    "dataset_shuffled = dataset.shuffle()\n",
    "train_dataset = dataset_shuffled[:N_TRAINING_SAMPLES]\n",
    "test_dataset = dataset_shuffled[N_TRAINING_SAMPLES:]\n",
    "print(f'Number of training graphs: {len(train_dataset)}')\n",
    "print(f'Number of test graphs: {len(test_dataset)}')"
   ]
  },
  {
   "cell_type": "code",
   "execution_count": null,
   "id": "e9a130b6-95ee-407d-a520-376006a98cbc",
   "metadata": {},
   "outputs": [],
   "source": [
    "BATCH_SIZE = 32\n",
    "train_loader = DataLoader(train_dataset, batch_size=BATCH_SIZE)#, shuffle=True)\n",
    "test_loader = DataLoader(test_dataset, batch_size=BATCH_SIZE)#, shuffle=False)"
   ]
  },
  {
   "cell_type": "code",
   "execution_count": null,
   "id": "609d4072-2f9b-4515-a678-fa2650409016",
   "metadata": {},
   "outputs": [],
   "source": [
    "my_dimensions = [64, 128, 256]\n",
    "my_learning_rates = [.0005, .0001]\n",
    "EPOCHS = 101"
   ]
  },
  {
   "cell_type": "code",
   "execution_count": null,
   "id": "dfce81c4-931b-4b3b-b04e-b1997a149646",
   "metadata": {},
   "outputs": [],
   "source": [
    "for p1 in my_learning_rates:\n",
    "    for p2 in my_edge_dropout_rate:\n",
    "        print(f'Paremeters: {p1, p2}')\n",
    "        model = Attention2Conv(num_node_features=dataset.num_features, hidden_channels=p1, dropout_rate=0.5, edge_dropout_rate=0.1)\n",
    "        metrics = np.empty((2,EPOCHS))\n",
    "        optimizer = torch.optim.AdamW(model.parameters(),lr=p2,  weight_decay=1e-4, amsgrad=True)\n",
    "        criterion = nn.BCEWithLogitsLoss()\n",
    "        device = torch.device('cuda' if torch.cuda.is_available() else 'cpu')\n",
    "        model = model.to(device)\n",
    "        for epoch in range(EPOCHS):\n",
    "            train_process(model, train_loader, optimizer, criterion, device)\n",
    "            train_acc = test_process(model, train_loader, device)\n",
    "            test_acc = test_process(model, test_loader, device)\n",
    "            metrics[0,epoch] = train_acc\n",
    "            metrics[1,epoch] = test_acc\n",
    "            #if epoch % 10 == 0:\n",
    "                #print(f'Epoch: {epoch:03d}, Train Acc: {train_acc:.4f}, Test Acc: {test_acc:.4f}')\n",
    "        print(f'Epoch: {epoch:03d}, Train Acc: {train_acc:.4f}, Test Acc: {test_acc:.4f}')\n",
    "                \n",
    "        np.save(f'results/fc_data/metrics/2conv/fc2c_metrics_dim{p1}_lr{p2}.npy', metrics)\n",
    "        torch.save(model.state_dict(), f'results/fc_data/models/2conv/fc2c_model_dim{p1}_lr{p2}')"
   ]
  },
  {
   "cell_type": "code",
   "execution_count": null,
   "id": "62e69fb9-9b40-40ac-ac92-6a4e3892fa5c",
   "metadata": {},
   "outputs": [],
   "source": []
  },
  {
   "cell_type": "code",
   "execution_count": null,
   "id": "ce04650e-7952-4d34-967e-d985370dc081",
   "metadata": {},
   "outputs": [],
   "source": []
  }
 ],
 "metadata": {
  "kernelspec": {
   "display_name": "Python 3 (ipykernel)",
   "language": "python",
   "name": "python3"
  },
  "language_info": {
   "codemirror_mode": {
    "name": "ipython",
    "version": 3
   },
   "file_extension": ".py",
   "mimetype": "text/x-python",
   "name": "python",
   "nbconvert_exporter": "python",
   "pygments_lexer": "ipython3",
   "version": "3.9.13"
  }
 },
 "nbformat": 4,
 "nbformat_minor": 5
}
