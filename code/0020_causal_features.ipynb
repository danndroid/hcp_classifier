{
 "cells": [
  {
   "cell_type": "code",
   "execution_count": 1,
   "id": "78c80315-d33d-479c-8a59-1ddeef0a98f3",
   "metadata": {},
   "outputs": [],
   "source": [
    "import numpy as np\n",
    "import pandas as pd\n",
    "import matplotlib.pyplot as plt\n",
    "import seaborn as sns\n",
    "from collections import Counter\n",
    "\n",
    "import networkx as nx\n",
    "import random"
   ]
  },
  {
   "cell_type": "code",
   "execution_count": 2,
   "id": "510b3a05-0118-4adb-a04d-24fd3f7d4197",
   "metadata": {},
   "outputs": [],
   "source": [
    "import os\n",
    "import sys\n",
    "sys.path.insert(0, os.path.abspath('../../code/'))\n",
    "from utils.causal_graphs import compute_egde_list, compute_graph_measures, compute_degree_features, compute_edge_features"
   ]
  },
  {
   "cell_type": "code",
   "execution_count": 3,
   "id": "ea488eeb-8703-44a8-b465-064473ebf34d",
   "metadata": {},
   "outputs": [
    {
     "name": "stdout",
     "output_type": "stream",
     "text": [
      "WARRIOR\n",
      "   brain initialized\n",
      "   network initialized\n"
     ]
    }
   ],
   "source": [
    "import warrior as war"
   ]
  },
  {
   "cell_type": "code",
   "execution_count": 4,
   "id": "293e82de-ff7c-42d1-b516-05e826f67795",
   "metadata": {},
   "outputs": [],
   "source": [
    "# N_NODES = 10\n",
    "# N_EDGES = 25\n",
    "# A = np.zeros((N_NODES, N_NODES), dtype=int)\n",
    "# indices = random.sample(range(N_NODES * N_NODES), N_EDGES)\n",
    "# print(indices)\n",
    "# for index in indices:\n",
    "#         row_index = index // N_NODES\n",
    "#         col_index = index % N_NODES\n",
    "#         A[row_index, col_index] = 1\n",
    "# np.fill_diagonal(A, 0)\n",
    "# A"
   ]
  },
  {
   "cell_type": "code",
   "execution_count": 5,
   "id": "292a0bf1-532c-48e2-a623-0cfd8186e684",
   "metadata": {},
   "outputs": [
    {
     "name": "stdout",
     "output_type": "stream",
     "text": [
      "(426, 100, 100)\n",
      "(426, 100, 100)\n"
     ]
    }
   ],
   "source": [
    "causal_fcs = np.load('../local/causal_graphs/processed/causal_fcs.npy')\n",
    "print(causal_fcs.shape)\n",
    "filtered_fcs = np.load('../local/causal_graphs/processed/filtered_fcs.npy')\n",
    "print(filtered_fcs.shape)"
   ]
  },
  {
   "cell_type": "code",
   "execution_count": 6,
   "id": "0ca64e59-3f1d-4b79-9bd8-99f11661d1ac",
   "metadata": {},
   "outputs": [],
   "source": [
    "NODES = causal_fcs.shape[1]\n",
    "EDGES = int((NODES*(NODES-1)) / 2)"
   ]
  },
  {
   "cell_type": "code",
   "execution_count": 7,
   "id": "7c9bffad-c3aa-445a-8035-74f988b940dd",
   "metadata": {},
   "outputs": [],
   "source": [
    "cfc = causal_fcs[0]\n",
    "fc = filtered_fcs[0]"
   ]
  },
  {
   "cell_type": "code",
   "execution_count": 8,
   "id": "dd18761a-28ff-42ff-a598-1c81657ce728",
   "metadata": {},
   "outputs": [],
   "source": [
    "in_degree = np.where(cfc==1,1,0).sum(axis=0)\n",
    "out_degree = np.where(cfc==1,1,0).sum(axis=1)\n",
    "degree = in_degree + out_degree"
   ]
  },
  {
   "cell_type": "code",
   "execution_count": 9,
   "id": "4535f655-d286-4151-ade0-9d59904404a0",
   "metadata": {},
   "outputs": [
    {
     "name": "stdout",
     "output_type": "stream",
     "text": [
      "[24 23 21 14 21 26 23 30 26 19]\n",
      "[11 13 16  6  4  6 16 14  9 11]\n",
      "[13 10  5  8 17 20  7 16 17  8]\n"
     ]
    }
   ],
   "source": [
    "print(degree[:10])\n",
    "print(in_degree[:10])\n",
    "print(out_degree[:10])"
   ]
  },
  {
   "cell_type": "code",
   "execution_count": 10,
   "id": "3f96e79c-a7dc-4c3b-8556-e8528cc633ec",
   "metadata": {},
   "outputs": [
    {
     "name": "stdout",
     "output_type": "stream",
     "text": [
      "(1377, 2)\n",
      "[[ 0  1]\n",
      " [ 0 19]\n",
      " [ 0 34]\n",
      " ...\n",
      " [99 89]\n",
      " [99 93]\n",
      " [99 95]]\n",
      "1377\n",
      "[(0, 1), (0, 19), (0, 34), (0, 48), (0, 50), (0, 55)]\n"
     ]
    }
   ],
   "source": [
    "edge_list, nx_edge_list = compute_egde_list(fc)\n",
    "print(edge_list.shape)\n",
    "print(edge_list[:,:6])\n",
    "print(len(nx_edge_list))\n",
    "print(nx_edge_list[:6])"
   ]
  },
  {
   "cell_type": "code",
   "execution_count": 11,
   "id": "b40dfedf-dfa0-4bf0-ba40-a580a4f97916",
   "metadata": {},
   "outputs": [
    {
     "name": "stdout",
     "output_type": "stream",
     "text": [
      "Directed: True\n",
      "Nodes: 100\n",
      "Edges: 1377\n",
      "Density: 0.28\n"
     ]
    }
   ],
   "source": [
    "G = nx.DiGraph()\n",
    "G.add_edges_from(nx_edge_list)\n",
    "print(f'Directed: {nx.is_directed(G)}')\n",
    "print(f'Nodes: {G.number_of_nodes()}')\n",
    "print(f'Edges: {G.number_of_edges()}')\n",
    "print(f'Density: {G.number_of_edges() / EDGES:.2f}')"
   ]
  },
  {
   "cell_type": "code",
   "execution_count": 23,
   "id": "025c0cfa-8e69-4064-8027-60242f7f3ec9",
   "metadata": {},
   "outputs": [
    {
     "name": "stdout",
     "output_type": "stream",
     "text": [
      "(100, 3)\n"
     ]
    },
    {
     "data": {
      "text/plain": [
       "array([[0.0906847 , 0.09987363, 0.13949275],\n",
       "       [0.0774473 , 0.07121974, 0.1541502 ],\n",
       "       [0.11857127, 0.0291137 , 0.16666667],\n",
       "       [0.02791352, 0.0544754 , 0.0989011 ],\n",
       "       [0.03198196, 0.13843329, 0.16666667]])"
      ]
     },
     "execution_count": 23,
     "metadata": {},
     "output_type": "execute_result"
    }
   ],
   "source": [
    "measures = compute_graph_measures(nx_edge_list) # IN_CENTRALITY, OUT_CENTRALITY, CLUSTERING\n",
    "print(measures.shape)\n",
    "measures[:5,:]"
   ]
  },
  {
   "cell_type": "code",
   "execution_count": 21,
   "id": "ee5900cd-4dee-46ee-bda7-70f62295b7d1",
   "metadata": {},
   "outputs": [
    {
     "name": "stdout",
     "output_type": "stream",
     "text": [
      "(100, 6)\n"
     ]
    },
    {
     "data": {
      "text/plain": [
       "array([[13.   ,  8.   ,  5.   ,  2.368,  2.918, -0.551],\n",
       "       [10.   ,  4.   ,  6.   , -0.139,  0.822, -0.961],\n",
       "       [ 5.   ,  3.   ,  2.   ,  1.624,  1.979, -0.355],\n",
       "       [ 8.   ,  1.   ,  7.   , -0.768,  0.291, -1.059],\n",
       "       [17.   ,  7.   , 10.   ,  0.618,  2.415, -1.797]])"
      ]
     },
     "execution_count": 21,
     "metadata": {},
     "output_type": "execute_result"
    }
   ],
   "source": [
    "# STRENGHT, DEGREE, P_STRENGHT, P_DEGREE, N_STRENGHT, N_DEGREE,\n",
    "measures = compute_degree_features(fc) # \n",
    "print(measures.shape)\n",
    "np.round(measures[:5,:],3)"
   ]
  },
  {
   "cell_type": "code",
   "execution_count": 26,
   "id": "6c0d8b44-9458-4894-a226-3787bd376412",
   "metadata": {},
   "outputs": [
    {
     "name": "stdout",
     "output_type": "stream",
     "text": [
      "(1377,)\n"
     ]
    },
    {
     "data": {
      "text/plain": [
       "array([-0.158,  0.421, -0.056,  0.552,  0.565,  0.118,  0.139,  0.418,\n",
       "       -0.174, -0.115])"
      ]
     },
     "execution_count": 26,
     "metadata": {},
     "output_type": "execute_result"
    }
   ],
   "source": [
    "# CORRELATION VALUE\n",
    "measures = compute_edge_features(fc, nx_edge_list) \n",
    "print(measures.shape)\n",
    "np.round(measures[:10],3)"
   ]
  },
  {
   "cell_type": "code",
   "execution_count": null,
   "id": "8d58e3e7-75f4-465b-8cb5-5ce92c843de4",
   "metadata": {},
   "outputs": [],
   "source": []
  },
  {
   "cell_type": "code",
   "execution_count": null,
   "id": "46a83b28-e970-43dc-ab11-5cb6e5778016",
   "metadata": {},
   "outputs": [],
   "source": []
  }
 ],
 "metadata": {
  "kernelspec": {
   "display_name": "Python 3 (ipykernel)",
   "language": "python",
   "name": "python3"
  },
  "language_info": {
   "codemirror_mode": {
    "name": "ipython",
    "version": 3
   },
   "file_extension": ".py",
   "mimetype": "text/x-python",
   "name": "python",
   "nbconvert_exporter": "python",
   "pygments_lexer": "ipython3",
   "version": "3.9.0"
  }
 },
 "nbformat": 4,
 "nbformat_minor": 5
}
