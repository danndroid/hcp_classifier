{
 "cells": [
  {
   "cell_type": "code",
   "execution_count": 1,
   "id": "78c80315-d33d-479c-8a59-1ddeef0a98f3",
   "metadata": {},
   "outputs": [],
   "source": [
    "from scipy.io import loadmat\n",
    "import mat73\n",
    "import numpy as np\n",
    "import pandas as pd\n",
    "\n",
    "import matplotlib.pyplot as plt\n",
    "import seaborn as sns\n",
    "from collections import Counter"
   ]
  },
  {
   "cell_type": "code",
   "execution_count": 3,
   "id": "08bdccdc-de4f-4dc7-a30c-a8d958999628",
   "metadata": {},
   "outputs": [
    {
     "data": {
      "text/plain": [
       "dict_keys(['IDs', 'ts_all'])"
      ]
     },
     "execution_count": 3,
     "metadata": {},
     "output_type": "execute_result"
    }
   ],
   "source": [
    "matfile = '../local/matfiles/mz_twins/ts_MZ_116_schaefer_subc_100.mat'\n",
    "data_dict = mat73.loadmat(matfile)\n",
    "data_dict.keys()"
   ]
  },
  {
   "cell_type": "code",
   "execution_count": 4,
   "id": "423505b1-51d7-4725-9a1e-d23dd6b8f3d7",
   "metadata": {},
   "outputs": [
    {
     "name": "stdout",
     "output_type": "stream",
     "text": [
      "(116, 2)\n"
     ]
    },
    {
     "data": {
      "text/html": [
       "<div>\n",
       "<style scoped>\n",
       "    .dataframe tbody tr th:only-of-type {\n",
       "        vertical-align: middle;\n",
       "    }\n",
       "\n",
       "    .dataframe tbody tr th {\n",
       "        vertical-align: top;\n",
       "    }\n",
       "\n",
       "    .dataframe thead th {\n",
       "        text-align: right;\n",
       "    }\n",
       "</style>\n",
       "<table border=\"1\" class=\"dataframe\">\n",
       "  <thead>\n",
       "    <tr style=\"text-align: right;\">\n",
       "      <th></th>\n",
       "      <th>0</th>\n",
       "      <th>1</th>\n",
       "    </tr>\n",
       "  </thead>\n",
       "  <tbody>\n",
       "    <tr>\n",
       "      <th>0</th>\n",
       "      <td>100307</td>\n",
       "      <td>255639</td>\n",
       "    </tr>\n",
       "    <tr>\n",
       "      <th>1</th>\n",
       "      <td>100408</td>\n",
       "      <td>705341</td>\n",
       "    </tr>\n",
       "    <tr>\n",
       "      <th>2</th>\n",
       "      <td>102311</td>\n",
       "      <td>145834</td>\n",
       "    </tr>\n",
       "    <tr>\n",
       "      <th>3</th>\n",
       "      <td>102816</td>\n",
       "      <td>680957</td>\n",
       "    </tr>\n",
       "    <tr>\n",
       "      <th>4</th>\n",
       "      <td>103818</td>\n",
       "      <td>143325</td>\n",
       "    </tr>\n",
       "  </tbody>\n",
       "</table>\n",
       "</div>"
      ],
      "text/plain": [
       "        0       1\n",
       "0  100307  255639\n",
       "1  100408  705341\n",
       "2  102311  145834\n",
       "3  102816  680957\n",
       "4  103818  143325"
      ]
     },
     "execution_count": 4,
     "metadata": {},
     "output_type": "execute_result"
    }
   ],
   "source": [
    "ids = data_dict['IDs']\n",
    "print(ids.shape)\n",
    "pd.DataFrame(ids, dtype='int64').head(5)"
   ]
  },
  {
   "cell_type": "code",
   "execution_count": 5,
   "id": "74755c0d-f873-49fc-96d1-14fcdd50ba4b",
   "metadata": {},
   "outputs": [
    {
     "name": "stdout",
     "output_type": "stream",
     "text": [
      "(232,)\n"
     ]
    },
    {
     "data": {
      "text/plain": [
       "array([100307., 100408., 102311., 102816., 103818., 104416., 105115.,\n",
       "       106016., 107018., 107422.])"
      ]
     },
     "execution_count": 5,
     "metadata": {},
     "output_type": "execute_result"
    }
   ],
   "source": [
    "A = np.concatenate([ids[:,0], ids[:,1]])\n",
    "print(A.shape)\n",
    "A[:10]"
   ]
  },
  {
   "cell_type": "code",
   "execution_count": 6,
   "id": "db175194-6d62-4093-8595-28d31feb8173",
   "metadata": {},
   "outputs": [],
   "source": [
    "np.save('../local/subject_ids/mz/mz_unique_ids.npy', A)"
   ]
  },
  {
   "cell_type": "code",
   "execution_count": 7,
   "id": "cc90c0c2-2e34-4f46-84bc-8365407783a3",
   "metadata": {},
   "outputs": [
    {
     "name": "stdout",
     "output_type": "stream",
     "text": [
      "(464,)\n"
     ]
    },
    {
     "data": {
      "text/plain": [
       "array([100307., 255639., 100307., 255639., 100408., 705341., 100408.,\n",
       "       705341., 102311., 145834., 102311., 145834.])"
      ]
     },
     "execution_count": 7,
     "metadata": {},
     "output_type": "execute_result"
    }
   ],
   "source": [
    "A = [np.array([a,b,a,b]) for a,b in zip(ids[:,0], ids[:,1])]\n",
    "A = np.concatenate(A)\n",
    "print(A.shape)\n",
    "A[:12]"
   ]
  },
  {
   "cell_type": "code",
   "execution_count": 8,
   "id": "04a17c3a-5650-45bc-b321-2bbe50bb848e",
   "metadata": {},
   "outputs": [],
   "source": [
    "np.save('../local/subject_ids/mz/mz_duplicated_ids.npy', A)"
   ]
  },
  {
   "cell_type": "code",
   "execution_count": null,
   "id": "6d37f14c-4ae5-4154-b7a3-8b52aca67cac",
   "metadata": {},
   "outputs": [],
   "source": []
  },
  {
   "cell_type": "code",
   "execution_count": 9,
   "id": "e201fa7f-96ab-4b29-9549-dbd832304f16",
   "metadata": {},
   "outputs": [
    {
     "data": {
      "text/plain": [
       "3712"
      ]
     },
     "execution_count": 9,
     "metadata": {},
     "output_type": "execute_result"
    }
   ],
   "source": [
    "data = data_dict['ts_all']\n",
    "len(data)"
   ]
  },
  {
   "cell_type": "code",
   "execution_count": 10,
   "id": "e395a6d0-c7ab-4362-bde1-6b6e72cde0c1",
   "metadata": {},
   "outputs": [
    {
     "data": {
      "text/plain": [
       "(464, 8.0)"
      ]
     },
     "execution_count": 10,
     "metadata": {},
     "output_type": "execute_result"
    }
   ],
   "source": [
    "116*4, 3712/(116*4)"
   ]
  },
  {
   "cell_type": "code",
   "execution_count": 11,
   "id": "185dc372-d473-44f6-b3ac-421688304479",
   "metadata": {},
   "outputs": [
    {
     "data": {
      "text/plain": [
       "464"
      ]
     },
     "execution_count": 11,
     "metadata": {},
     "output_type": "execute_result"
    }
   ],
   "source": [
    "rest = data[:464]\n",
    "len(rest)"
   ]
  },
  {
   "cell_type": "code",
   "execution_count": 12,
   "id": "ed60d2c2-b124-443f-8bcc-269984aa9100",
   "metadata": {},
   "outputs": [
    {
     "data": {
      "text/plain": [
       "(1190, 114)"
      ]
     },
     "execution_count": 12,
     "metadata": {},
     "output_type": "execute_result"
    }
   ],
   "source": [
    "rest[0]['ts'].shape"
   ]
  },
  {
   "cell_type": "code",
   "execution_count": 13,
   "id": "92c40434-63ea-4d21-85d8-b3d9012f8542",
   "metadata": {},
   "outputs": [
    {
     "data": {
      "text/plain": [
       "1170"
      ]
     },
     "execution_count": 13,
     "metadata": {},
     "output_type": "execute_result"
    }
   ],
   "source": [
    "1190-20"
   ]
  },
  {
   "cell_type": "code",
   "execution_count": 14,
   "id": "bed6fd41-44bc-43bc-ac46-faff85913fcd",
   "metadata": {},
   "outputs": [
    {
     "data": {
      "text/plain": [
       "(464, 1170, 100)"
      ]
     },
     "execution_count": 14,
     "metadata": {},
     "output_type": "execute_result"
    }
   ],
   "source": [
    "series = np.zeros((464,1170,100))\n",
    "for idx, s in enumerate(rest):\n",
    "    series[idx] = s['ts'][10:-10, :100]\n",
    "series.shape"
   ]
  },
  {
   "cell_type": "code",
   "execution_count": 15,
   "id": "3e923a9c-e502-4282-aa92-bb5f0d423157",
   "metadata": {},
   "outputs": [],
   "source": [
    "fcs = np.zeros((464,100,100))\n",
    "for idx, s in enumerate(series):\n",
    "    m = np.corrcoef(s.T)\n",
    "    fcs[idx] = m"
   ]
  },
  {
   "cell_type": "code",
   "execution_count": 16,
   "id": "c2669172-da6d-43eb-b541-1b5c55bac23e",
   "metadata": {},
   "outputs": [],
   "source": [
    "np.save('../local/timeseries/mz_twins/timeseries_100_mz.npy', series)\n",
    "np.save('../local/fcs/mz_twins/fcs_100_mz.npy', fcs)"
   ]
  },
  {
   "cell_type": "code",
   "execution_count": null,
   "id": "ec6f649c-87b8-4561-b978-f2d4189bd0d1",
   "metadata": {},
   "outputs": [],
   "source": []
  },
  {
   "cell_type": "code",
   "execution_count": null,
   "id": "8d58e3e7-75f4-465b-8cb5-5ce92c843de4",
   "metadata": {},
   "outputs": [],
   "source": []
  },
  {
   "cell_type": "code",
   "execution_count": null,
   "id": "46a83b28-e970-43dc-ab11-5cb6e5778016",
   "metadata": {},
   "outputs": [],
   "source": []
  }
 ],
 "metadata": {
  "kernelspec": {
   "display_name": "Python 3 (ipykernel)",
   "language": "python",
   "name": "python3"
  },
  "language_info": {
   "codemirror_mode": {
    "name": "ipython",
    "version": 3
   },
   "file_extension": ".py",
   "mimetype": "text/x-python",
   "name": "python",
   "nbconvert_exporter": "python",
   "pygments_lexer": "ipython3",
   "version": "3.9.13"
  }
 },
 "nbformat": 4,
 "nbformat_minor": 5
}
