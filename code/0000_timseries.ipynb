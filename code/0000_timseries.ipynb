{
 "cells": [
  {
   "cell_type": "code",
   "execution_count": 1,
   "id": "78c80315-d33d-479c-8a59-1ddeef0a98f3",
   "metadata": {},
   "outputs": [],
   "source": [
    "from scipy.io import loadmat\n",
    "import mat73\n",
    "import numpy as np\n",
    "import pandas as pd\n",
    "\n",
    "import matplotlib.pyplot as plt\n",
    "import seaborn as sns\n",
    "from collections import Counter"
   ]
  },
  {
   "cell_type": "code",
   "execution_count": 4,
   "id": "08bdccdc-de4f-4dc7-a30c-a8d958999628",
   "metadata": {},
   "outputs": [
    {
     "data": {
      "text/plain": [
       "dict_keys(['IDs', 'ts_all'])"
      ]
     },
     "execution_count": 4,
     "metadata": {},
     "output_type": "execute_result"
    }
   ],
   "source": [
    "matfile = '../local/matfiles/unrelated/ts_all_426_schaefer_subc_100_unrandomized.mat'\n",
    "data_dict = mat73.loadmat(matfile)\n",
    "data_dict.keys()"
   ]
  },
  {
   "cell_type": "code",
   "execution_count": 5,
   "id": "423505b1-51d7-4725-9a1e-d23dd6b8f3d7",
   "metadata": {},
   "outputs": [
    {
     "name": "stdout",
     "output_type": "stream",
     "text": [
      "(426,)\n"
     ]
    },
    {
     "data": {
      "text/html": [
       "<div>\n",
       "<style scoped>\n",
       "    .dataframe tbody tr th:only-of-type {\n",
       "        vertical-align: middle;\n",
       "    }\n",
       "\n",
       "    .dataframe tbody tr th {\n",
       "        vertical-align: top;\n",
       "    }\n",
       "\n",
       "    .dataframe thead th {\n",
       "        text-align: right;\n",
       "    }\n",
       "</style>\n",
       "<table border=\"1\" class=\"dataframe\">\n",
       "  <thead>\n",
       "    <tr style=\"text-align: right;\">\n",
       "      <th></th>\n",
       "      <th>0</th>\n",
       "    </tr>\n",
       "  </thead>\n",
       "  <tbody>\n",
       "    <tr>\n",
       "      <th>0</th>\n",
       "      <td>100206</td>\n",
       "    </tr>\n",
       "    <tr>\n",
       "      <th>1</th>\n",
       "      <td>100307</td>\n",
       "    </tr>\n",
       "    <tr>\n",
       "      <th>2</th>\n",
       "      <td>100408</td>\n",
       "    </tr>\n",
       "  </tbody>\n",
       "</table>\n",
       "</div>"
      ],
      "text/plain": [
       "        0\n",
       "0  100206\n",
       "1  100307\n",
       "2  100408"
      ]
     },
     "execution_count": 5,
     "metadata": {},
     "output_type": "execute_result"
    }
   ],
   "source": [
    "ids = data_dict['IDs']\n",
    "print(ids.shape)\n",
    "pd.DataFrame(ids, dtype='int64').head(3)"
   ]
  },
  {
   "cell_type": "code",
   "execution_count": 6,
   "id": "e7bd9042-6e9c-48f6-8ac5-9a26f0449f9e",
   "metadata": {},
   "outputs": [
    {
     "data": {
      "text/plain": [
       "6816"
      ]
     },
     "execution_count": 6,
     "metadata": {},
     "output_type": "execute_result"
    }
   ],
   "source": [
    "data = data_dict['ts_all']\n",
    "len(data)"
   ]
  },
  {
   "cell_type": "code",
   "execution_count": 7,
   "id": "1057ca2d-00cc-45f4-914e-450885a0eedb",
   "metadata": {},
   "outputs": [
    {
     "data": {
      "text/plain": [
       "(852, 8.0)"
      ]
     },
     "execution_count": 7,
     "metadata": {},
     "output_type": "execute_result"
    }
   ],
   "source": [
    "426*2, 6816/(426*2)"
   ]
  },
  {
   "cell_type": "code",
   "execution_count": 8,
   "id": "185dc372-d473-44f6-b3ac-421688304479",
   "metadata": {},
   "outputs": [
    {
     "data": {
      "text/plain": [
       "852"
      ]
     },
     "execution_count": 8,
     "metadata": {},
     "output_type": "execute_result"
    }
   ],
   "source": [
    "rest = data[:852]\n",
    "len(rest)"
   ]
  },
  {
   "cell_type": "code",
   "execution_count": 9,
   "id": "ed60d2c2-b124-443f-8bcc-269984aa9100",
   "metadata": {},
   "outputs": [
    {
     "data": {
      "text/plain": [
       "(1190, 114)"
      ]
     },
     "execution_count": 9,
     "metadata": {},
     "output_type": "execute_result"
    }
   ],
   "source": [
    "rest[0]['ts'].shape"
   ]
  },
  {
   "cell_type": "code",
   "execution_count": 10,
   "id": "92c40434-63ea-4d21-85d8-b3d9012f8542",
   "metadata": {},
   "outputs": [
    {
     "data": {
      "text/plain": [
       "1170"
      ]
     },
     "execution_count": 10,
     "metadata": {},
     "output_type": "execute_result"
    }
   ],
   "source": [
    "1190-20"
   ]
  },
  {
   "cell_type": "code",
   "execution_count": 13,
   "id": "bed6fd41-44bc-43bc-ac46-faff85913fcd",
   "metadata": {},
   "outputs": [
    {
     "data": {
      "text/plain": [
       "(852, 1170, 100)"
      ]
     },
     "execution_count": 13,
     "metadata": {},
     "output_type": "execute_result"
    }
   ],
   "source": [
    "series = np.zeros((852,1170,100))\n",
    "for idx, s in enumerate(rest):\n",
    "    series[idx] = s['ts'][10:-10, :100]\n",
    "series.shape"
   ]
  },
  {
   "cell_type": "code",
   "execution_count": 14,
   "id": "3e923a9c-e502-4282-aa92-bb5f0d423157",
   "metadata": {},
   "outputs": [],
   "source": [
    "fcs = np.zeros((852,100,100))\n",
    "for idx, s in enumerate(series):\n",
    "    m = np.corrcoef(s.T)\n",
    "    fcs[idx] = m"
   ]
  },
  {
   "cell_type": "code",
   "execution_count": 15,
   "id": "c2669172-da6d-43eb-b541-1b5c55bac23e",
   "metadata": {},
   "outputs": [],
   "source": [
    "np.save('../local/timeseries/unrelated/timeseries_100_unrelated.npy', series)\n",
    "np.save('../local/fcs/unrelated/fcs_100_unrelated.npy', fcs)"
   ]
  },
  {
   "cell_type": "code",
   "execution_count": null,
   "id": "ec6f649c-87b8-4561-b978-f2d4189bd0d1",
   "metadata": {},
   "outputs": [],
   "source": []
  },
  {
   "cell_type": "code",
   "execution_count": null,
   "id": "8d58e3e7-75f4-465b-8cb5-5ce92c843de4",
   "metadata": {},
   "outputs": [],
   "source": []
  },
  {
   "cell_type": "code",
   "execution_count": null,
   "id": "46a83b28-e970-43dc-ab11-5cb6e5778016",
   "metadata": {},
   "outputs": [],
   "source": []
  }
 ],
 "metadata": {
  "kernelspec": {
   "display_name": "Python 3 (ipykernel)",
   "language": "python",
   "name": "python3"
  },
  "language_info": {
   "codemirror_mode": {
    "name": "ipython",
    "version": 3
   },
   "file_extension": ".py",
   "mimetype": "text/x-python",
   "name": "python",
   "nbconvert_exporter": "python",
   "pygments_lexer": "ipython3",
   "version": "3.9.13"
  }
 },
 "nbformat": 4,
 "nbformat_minor": 5
}
