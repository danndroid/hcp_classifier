{
 "cells": [
  {
   "cell_type": "code",
   "execution_count": 1,
   "id": "78c80315-d33d-479c-8a59-1ddeef0a98f3",
   "metadata": {},
   "outputs": [],
   "source": [
    "import numpy as np\n",
    "import pandas as pd\n",
    "import matplotlib.pyplot as plt\n",
    "import seaborn as sns\n",
    "from collections import Counter\n",
    "\n",
    "import networkx as nx"
   ]
  },
  {
   "cell_type": "code",
   "execution_count": 2,
   "id": "ea488eeb-8703-44a8-b465-064473ebf34d",
   "metadata": {},
   "outputs": [
    {
     "name": "stdout",
     "output_type": "stream",
     "text": [
      "WARRIOR\n",
      "   brain initialized\n",
      "   network initialized\n"
     ]
    }
   ],
   "source": [
    "import warrior as war"
   ]
  },
  {
   "cell_type": "code",
   "execution_count": 4,
   "id": "08bdccdc-de4f-4dc7-a30c-a8d958999628",
   "metadata": {},
   "outputs": [
    {
     "name": "stdout",
     "output_type": "stream",
     "text": [
      "(852, 100, 100)\n",
      "(464, 100, 100)\n"
     ]
    }
   ],
   "source": [
    "unrelated_fcs = np.load('../local/fcs/unrelated/sparse_fcs_100_unrelated_t0.15_852.npy')\n",
    "print(unrelated_fcs.shape)\n",
    "mz_fcs = np.load('../local/fcs/mz_twins/sparse_fcs_100_mz_t0.15_464.npy')\n",
    "print(mz_fcs.shape)"
   ]
  },
  {
   "cell_type": "code",
   "execution_count": 7,
   "id": "1de00420-9904-4f1a-a741-27910c84b89a",
   "metadata": {},
   "outputs": [
    {
     "data": {
      "text/plain": [
       "(1316, 100, 100)"
      ]
     },
     "execution_count": 7,
     "metadata": {},
     "output_type": "execute_result"
    }
   ],
   "source": [
    "all_fcs = np.vstack([unrelated_fcs, mz_fcs])\n",
    "all_fcs.shape"
   ]
  },
  {
   "cell_type": "code",
   "execution_count": null,
   "id": "211e84fe-76d8-4b47-a49e-83931b0d0201",
   "metadata": {},
   "outputs": [],
   "source": []
  },
  {
   "cell_type": "code",
   "execution_count": 8,
   "id": "9bdf777a-25ed-4924-9d4a-5de101c61500",
   "metadata": {},
   "outputs": [
    {
     "name": "stdout",
     "output_type": "stream",
     "text": [
      "(852,)\n",
      "(464,)\n"
     ]
    }
   ],
   "source": [
    "unrelated_labels = np.load('../local/gender_labels/unrelated_gender_labels_852.npy')\n",
    "print(unrelated_labels.shape)\n",
    "mz_labels = np.load('../local/gender_labels/mz_gender_labels_464.npy')\n",
    "print(mz_labels.shape)"
   ]
  },
  {
   "cell_type": "code",
   "execution_count": 10,
   "id": "34c4fef1-1954-4772-9a2c-8260e1b63903",
   "metadata": {},
   "outputs": [
    {
     "data": {
      "text/plain": [
       "(1316,)"
      ]
     },
     "execution_count": 10,
     "metadata": {},
     "output_type": "execute_result"
    }
   ],
   "source": [
    "all_labels = np.concatenate([unrelated_labels, mz_labels])\n",
    "all_labels.shape"
   ]
  },
  {
   "cell_type": "code",
   "execution_count": null,
   "id": "ec6f649c-87b8-4561-b978-f2d4189bd0d1",
   "metadata": {},
   "outputs": [],
   "source": []
  },
  {
   "cell_type": "code",
   "execution_count": 12,
   "id": "8d58e3e7-75f4-465b-8cb5-5ce92c843de4",
   "metadata": {},
   "outputs": [],
   "source": [
    "np.save('../local/fcs/combined/sparse_fcs_1316_subjects.npy', all_fcs)\n",
    "np.save('../local/gender_labels/combined_gender_labels_1316_subjects.npy', all_labels)"
   ]
  },
  {
   "cell_type": "code",
   "execution_count": null,
   "id": "46a83b28-e970-43dc-ab11-5cb6e5778016",
   "metadata": {},
   "outputs": [],
   "source": []
  }
 ],
 "metadata": {
  "kernelspec": {
   "display_name": "Python 3 (ipykernel)",
   "language": "python",
   "name": "python3"
  },
  "language_info": {
   "codemirror_mode": {
    "name": "ipython",
    "version": 3
   },
   "file_extension": ".py",
   "mimetype": "text/x-python",
   "name": "python",
   "nbconvert_exporter": "python",
   "pygments_lexer": "ipython3",
   "version": "3.9.13"
  }
 },
 "nbformat": 4,
 "nbformat_minor": 5
}
