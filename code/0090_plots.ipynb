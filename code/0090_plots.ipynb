{
 "cells": [
  {
   "cell_type": "code",
   "execution_count": 1,
   "id": "78c80315-d33d-479c-8a59-1ddeef0a98f3",
   "metadata": {},
   "outputs": [],
   "source": [
    "from scipy.io import loadmat\n",
    "import numpy as np\n",
    "import mat73\n",
    "import pandas as pd\n",
    "\n",
    "import matplotlib.pyplot as plt\n",
    "import seaborn as sns\n",
    "from collections import Counter"
   ]
  },
  {
   "cell_type": "code",
   "execution_count": 2,
   "id": "39fca419-380d-4a45-bee1-cbf21554ec66",
   "metadata": {},
   "outputs": [
    {
     "data": {
      "text/plain": [
       "1210"
      ]
     },
     "execution_count": 2,
     "metadata": {},
     "output_type": "execute_result"
    }
   ],
   "source": [
    "# TOTAL SUBJECTS\n",
    "(426*2)+(116*2)+(63*2)"
   ]
  },
  {
   "cell_type": "code",
   "execution_count": 6,
   "id": "08bdccdc-de4f-4dc7-a30c-a8d958999628",
   "metadata": {},
   "outputs": [
    {
     "data": {
      "text/plain": [
       "dict_keys(['Demo_name', 'Demographics', 'IDs_list'])"
      ]
     },
     "execution_count": 6,
     "metadata": {},
     "output_type": "execute_result"
    }
   ],
   "source": [
    "file = '../local/Demographics_all.mat'\n",
    "data_dict = mat73.loadmat(file)\n",
    "data_dict.keys()"
   ]
  },
  {
   "cell_type": "code",
   "execution_count": 7,
   "id": "423505b1-51d7-4725-9a1e-d23dd6b8f3d7",
   "metadata": {},
   "outputs": [
    {
     "name": "stdout",
     "output_type": "stream",
     "text": [
      "(426,)\n"
     ]
    },
    {
     "data": {
      "text/html": [
       "<div>\n",
       "<style scoped>\n",
       "    .dataframe tbody tr th:only-of-type {\n",
       "        vertical-align: middle;\n",
       "    }\n",
       "\n",
       "    .dataframe tbody tr th {\n",
       "        vertical-align: top;\n",
       "    }\n",
       "\n",
       "    .dataframe thead th {\n",
       "        text-align: right;\n",
       "    }\n",
       "</style>\n",
       "<table border=\"1\" class=\"dataframe\">\n",
       "  <thead>\n",
       "    <tr style=\"text-align: right;\">\n",
       "      <th></th>\n",
       "      <th>0</th>\n",
       "    </tr>\n",
       "  </thead>\n",
       "  <tbody>\n",
       "    <tr>\n",
       "      <th>0</th>\n",
       "      <td>100206</td>\n",
       "    </tr>\n",
       "    <tr>\n",
       "      <th>1</th>\n",
       "      <td>100307</td>\n",
       "    </tr>\n",
       "    <tr>\n",
       "      <th>2</th>\n",
       "      <td>100408</td>\n",
       "    </tr>\n",
       "    <tr>\n",
       "      <th>3</th>\n",
       "      <td>100610</td>\n",
       "    </tr>\n",
       "    <tr>\n",
       "      <th>4</th>\n",
       "      <td>101006</td>\n",
       "    </tr>\n",
       "  </tbody>\n",
       "</table>\n",
       "</div>"
      ],
      "text/plain": [
       "        0\n",
       "0  100206\n",
       "1  100307\n",
       "2  100408\n",
       "3  100610\n",
       "4  101006"
      ]
     },
     "execution_count": 7,
     "metadata": {},
     "output_type": "execute_result"
    }
   ],
   "source": [
    "ids = data_dict['IDs_list']\n",
    "print(ids.shape)\n",
    "pd.DataFrame(ids, dtype='int64').head()"
   ]
  },
  {
   "cell_type": "code",
   "execution_count": 8,
   "id": "f402b101-cf8f-4637-afdf-13680a91080d",
   "metadata": {},
   "outputs": [
    {
     "name": "stdout",
     "output_type": "stream",
     "text": [
      "(426, 15)\n"
     ]
    },
    {
     "data": {
      "text/html": [
       "<div>\n",
       "<style scoped>\n",
       "    .dataframe tbody tr th:only-of-type {\n",
       "        vertical-align: middle;\n",
       "    }\n",
       "\n",
       "    .dataframe tbody tr th {\n",
       "        vertical-align: top;\n",
       "    }\n",
       "\n",
       "    .dataframe thead th {\n",
       "        text-align: right;\n",
       "    }\n",
       "</style>\n",
       "<table border=\"1\" class=\"dataframe\">\n",
       "  <thead>\n",
       "    <tr style=\"text-align: right;\">\n",
       "      <th></th>\n",
       "      <th>0</th>\n",
       "      <th>1</th>\n",
       "      <th>2</th>\n",
       "      <th>3</th>\n",
       "      <th>4</th>\n",
       "      <th>5</th>\n",
       "      <th>6</th>\n",
       "      <th>7</th>\n",
       "      <th>8</th>\n",
       "      <th>9</th>\n",
       "      <th>10</th>\n",
       "      <th>11</th>\n",
       "      <th>12</th>\n",
       "      <th>13</th>\n",
       "      <th>14</th>\n",
       "    </tr>\n",
       "  </thead>\n",
       "  <tbody>\n",
       "    <tr>\n",
       "      <th>0</th>\n",
       "      <td>0.0</td>\n",
       "      <td>27.0</td>\n",
       "      <td>125.07</td>\n",
       "      <td>118.78</td>\n",
       "      <td>119.14</td>\n",
       "      <td>104.94</td>\n",
       "      <td>130.42</td>\n",
       "      <td>116.55</td>\n",
       "      <td>20.0</td>\n",
       "      <td>0.0</td>\n",
       "      <td>18574.5</td>\n",
       "      <td>113.5460</td>\n",
       "      <td>103.4441</td>\n",
       "      <td>138.72</td>\n",
       "      <td>131.89</td>\n",
       "    </tr>\n",
       "    <tr>\n",
       "      <th>1</th>\n",
       "      <td>1.0</td>\n",
       "      <td>27.0</td>\n",
       "      <td>110.61</td>\n",
       "      <td>103.45</td>\n",
       "      <td>123.75</td>\n",
       "      <td>109.92</td>\n",
       "      <td>112.56</td>\n",
       "      <td>101.90</td>\n",
       "      <td>17.0</td>\n",
       "      <td>2.0</td>\n",
       "      <td>11839.0</td>\n",
       "      <td>111.0700</td>\n",
       "      <td>98.7300</td>\n",
       "      <td>122.65</td>\n",
       "      <td>112.36</td>\n",
       "    </tr>\n",
       "    <tr>\n",
       "      <th>2</th>\n",
       "      <td>0.0</td>\n",
       "      <td>33.0</td>\n",
       "      <td>125.71</td>\n",
       "      <td>125.19</td>\n",
       "      <td>111.14</td>\n",
       "      <td>100.77</td>\n",
       "      <td>121.18</td>\n",
       "      <td>113.51</td>\n",
       "      <td>7.0</td>\n",
       "      <td>12.0</td>\n",
       "      <td>3042.0</td>\n",
       "      <td>131.8100</td>\n",
       "      <td>125.6400</td>\n",
       "      <td>107.08</td>\n",
       "      <td>96.00</td>\n",
       "    </tr>\n",
       "    <tr>\n",
       "      <th>3</th>\n",
       "      <td>0.0</td>\n",
       "      <td>27.0</td>\n",
       "      <td>109.04</td>\n",
       "      <td>101.69</td>\n",
       "      <td>129.84</td>\n",
       "      <td>115.18</td>\n",
       "      <td>126.53</td>\n",
       "      <td>114.18</td>\n",
       "      <td>23.0</td>\n",
       "      <td>0.0</td>\n",
       "      <td>12280.0</td>\n",
       "      <td>141.3166</td>\n",
       "      <td>132.4124</td>\n",
       "      <td>111.11</td>\n",
       "      <td>96.12</td>\n",
       "    </tr>\n",
       "    <tr>\n",
       "      <th>4</th>\n",
       "      <td>1.0</td>\n",
       "      <td>35.0</td>\n",
       "      <td>84.68</td>\n",
       "      <td>70.00</td>\n",
       "      <td>105.19</td>\n",
       "      <td>94.30</td>\n",
       "      <td>101.85</td>\n",
       "      <td>92.33</td>\n",
       "      <td>11.0</td>\n",
       "      <td>8.0</td>\n",
       "      <td>6569.0</td>\n",
       "      <td>113.5374</td>\n",
       "      <td>101.1697</td>\n",
       "      <td>90.59</td>\n",
       "      <td>71.99</td>\n",
       "    </tr>\n",
       "  </tbody>\n",
       "</table>\n",
       "</div>"
      ],
      "text/plain": [
       "    0     1       2       3       4       5       6       7     8     9   \\\n",
       "0  0.0  27.0  125.07  118.78  119.14  104.94  130.42  116.55  20.0   0.0   \n",
       "1  1.0  27.0  110.61  103.45  123.75  109.92  112.56  101.90  17.0   2.0   \n",
       "2  0.0  33.0  125.71  125.19  111.14  100.77  121.18  113.51   7.0  12.0   \n",
       "3  0.0  27.0  109.04  101.69  129.84  115.18  126.53  114.18  23.0   0.0   \n",
       "4  1.0  35.0   84.68   70.00  105.19   94.30  101.85   92.33  11.0   8.0   \n",
       "\n",
       "        10        11        12      13      14  \n",
       "0  18574.5  113.5460  103.4441  138.72  131.89  \n",
       "1  11839.0  111.0700   98.7300  122.65  112.36  \n",
       "2   3042.0  131.8100  125.6400  107.08   96.00  \n",
       "3  12280.0  141.3166  132.4124  111.11   96.12  \n",
       "4   6569.0  113.5374  101.1697   90.59   71.99  "
      ]
     },
     "execution_count": 8,
     "metadata": {},
     "output_type": "execute_result"
    }
   ],
   "source": [
    "data = data_dict['Demographics']\n",
    "print(data.shape)\n",
    "pd.DataFrame(data).head()"
   ]
  },
  {
   "cell_type": "code",
   "execution_count": 10,
   "id": "713b93e6-b6ee-44aa-955e-9417b5ab3c32",
   "metadata": {},
   "outputs": [
    {
     "name": "stdout",
     "output_type": "stream",
     "text": [
      "(1206, 582)\n"
     ]
    }
   ],
   "source": [
    "unrestricted = pd.read_csv('../local/unrestricted_liu2549_9_16_2021_16_6_58.csv')\n",
    "print(unrestricted.shape)"
   ]
  },
  {
   "cell_type": "code",
   "execution_count": 12,
   "id": "afce04a4-27f0-49c2-8860-010b641ee7c3",
   "metadata": {},
   "outputs": [
    {
     "name": "stderr",
     "output_type": "stream",
     "text": [
      "/tmp/ipykernel_4683/3021614150.py:2: SettingWithCopyWarning: \n",
      "A value is trying to be set on a copy of a slice from a DataFrame.\n",
      "Try using .loc[row_indexer,col_indexer] = value instead\n",
      "\n",
      "See the caveats in the documentation: https://pandas.pydata.org/pandas-docs/stable/user_guide/indexing.html#returning-a-view-versus-a-copy\n",
      "  demoraphics['sex_csv'] = data[:,0]\n",
      "/tmp/ipykernel_4683/3021614150.py:3: SettingWithCopyWarning: \n",
      "A value is trying to be set on a copy of a slice from a DataFrame.\n",
      "Try using .loc[row_indexer,col_indexer] = value instead\n",
      "\n",
      "See the caveats in the documentation: https://pandas.pydata.org/pandas-docs/stable/user_guide/indexing.html#returning-a-view-versus-a-copy\n",
      "  demoraphics['binary_gender'] = demoraphics['Gender'].map({'M':0,'F':1})\n"
     ]
    },
    {
     "data": {
      "text/html": [
       "<div>\n",
       "<style scoped>\n",
       "    .dataframe tbody tr th:only-of-type {\n",
       "        vertical-align: middle;\n",
       "    }\n",
       "\n",
       "    .dataframe tbody tr th {\n",
       "        vertical-align: top;\n",
       "    }\n",
       "\n",
       "    .dataframe thead th {\n",
       "        text-align: right;\n",
       "    }\n",
       "</style>\n",
       "<table border=\"1\" class=\"dataframe\">\n",
       "  <thead>\n",
       "    <tr style=\"text-align: right;\">\n",
       "      <th></th>\n",
       "      <th>Subject</th>\n",
       "      <th>Gender</th>\n",
       "      <th>Age</th>\n",
       "      <th>sex_csv</th>\n",
       "      <th>binary_gender</th>\n",
       "    </tr>\n",
       "  </thead>\n",
       "  <tbody>\n",
       "    <tr>\n",
       "      <th>1</th>\n",
       "      <td>100206</td>\n",
       "      <td>M</td>\n",
       "      <td>26-30</td>\n",
       "      <td>0.0</td>\n",
       "      <td>0</td>\n",
       "    </tr>\n",
       "    <tr>\n",
       "      <th>2</th>\n",
       "      <td>100307</td>\n",
       "      <td>F</td>\n",
       "      <td>26-30</td>\n",
       "      <td>1.0</td>\n",
       "      <td>1</td>\n",
       "    </tr>\n",
       "    <tr>\n",
       "      <th>3</th>\n",
       "      <td>100408</td>\n",
       "      <td>M</td>\n",
       "      <td>31-35</td>\n",
       "      <td>0.0</td>\n",
       "      <td>0</td>\n",
       "    </tr>\n",
       "    <tr>\n",
       "      <th>4</th>\n",
       "      <td>100610</td>\n",
       "      <td>M</td>\n",
       "      <td>26-30</td>\n",
       "      <td>0.0</td>\n",
       "      <td>0</td>\n",
       "    </tr>\n",
       "    <tr>\n",
       "      <th>5</th>\n",
       "      <td>101006</td>\n",
       "      <td>F</td>\n",
       "      <td>31-35</td>\n",
       "      <td>1.0</td>\n",
       "      <td>1</td>\n",
       "    </tr>\n",
       "    <tr>\n",
       "      <th>6</th>\n",
       "      <td>101107</td>\n",
       "      <td>M</td>\n",
       "      <td>22-25</td>\n",
       "      <td>0.0</td>\n",
       "      <td>0</td>\n",
       "    </tr>\n",
       "    <tr>\n",
       "      <th>8</th>\n",
       "      <td>101309</td>\n",
       "      <td>M</td>\n",
       "      <td>26-30</td>\n",
       "      <td>0.0</td>\n",
       "      <td>0</td>\n",
       "    </tr>\n",
       "    <tr>\n",
       "      <th>11</th>\n",
       "      <td>101915</td>\n",
       "      <td>F</td>\n",
       "      <td>31-35</td>\n",
       "      <td>1.0</td>\n",
       "      <td>1</td>\n",
       "    </tr>\n",
       "    <tr>\n",
       "      <th>13</th>\n",
       "      <td>102109</td>\n",
       "      <td>M</td>\n",
       "      <td>26-30</td>\n",
       "      <td>0.0</td>\n",
       "      <td>0</td>\n",
       "    </tr>\n",
       "    <tr>\n",
       "      <th>14</th>\n",
       "      <td>102311</td>\n",
       "      <td>F</td>\n",
       "      <td>26-30</td>\n",
       "      <td>1.0</td>\n",
       "      <td>1</td>\n",
       "    </tr>\n",
       "  </tbody>\n",
       "</table>\n",
       "</div>"
      ],
      "text/plain": [
       "    Subject Gender    Age  sex_csv  binary_gender\n",
       "1    100206      M  26-30      0.0              0\n",
       "2    100307      F  26-30      1.0              1\n",
       "3    100408      M  31-35      0.0              0\n",
       "4    100610      M  26-30      0.0              0\n",
       "5    101006      F  31-35      1.0              1\n",
       "6    101107      M  22-25      0.0              0\n",
       "8    101309      M  26-30      0.0              0\n",
       "11   101915      F  31-35      1.0              1\n",
       "13   102109      M  26-30      0.0              0\n",
       "14   102311      F  26-30      1.0              1"
      ]
     },
     "execution_count": 12,
     "metadata": {},
     "output_type": "execute_result"
    }
   ],
   "source": [
    "demoraphics = unrestricted[unrestricted['Subject'].isin(ids)]\n",
    "demoraphics['sex_csv'] = data[:,0]\n",
    "demoraphics['binary_gender'] = demoraphics['Gender'].map({'M':0,'F':1})\n",
    "demoraphics[['Subject','Gender','Age','sex_csv','binary_gender']].head(10)"
   ]
  },
  {
   "cell_type": "code",
   "execution_count": 13,
   "id": "55e076f1-a2de-4884-b77d-3e15c935caef",
   "metadata": {},
   "outputs": [
    {
     "data": {
      "text/plain": [
       "0.0"
      ]
     },
     "execution_count": 13,
     "metadata": {},
     "output_type": "execute_result"
    }
   ],
   "source": [
    "(demoraphics['sex_csv'] - demoraphics['binary_gender']).sum()"
   ]
  },
  {
   "cell_type": "code",
   "execution_count": 17,
   "id": "0b367eae-916f-4286-a508-da90ba41d91f",
   "metadata": {},
   "outputs": [
    {
     "name": "stdout",
     "output_type": "stream",
     "text": [
      "(426,) [0 1 0 0 1 0 0 1 0 1]\n",
      "(852,) [0 0 1 1 0 0 0 0 1 1]\n"
     ]
    }
   ],
   "source": [
    "gender = demoraphics['binary_gender'].values\n",
    "print(gender.shape, gender[:10])\n",
    "gender = np.repeat(gender, 2)\n",
    "print(gender.shape, gender[:10])"
   ]
  },
  {
   "cell_type": "code",
   "execution_count": 18,
   "id": "b9ee6394-ea82-4875-99e4-cb7a07efe4e5",
   "metadata": {},
   "outputs": [],
   "source": [
    "np.save('../local/gender_labels/unrelated_gender_labels.npy', gender)"
   ]
  },
  {
   "cell_type": "code",
   "execution_count": null,
   "id": "ec6f649c-87b8-4561-b978-f2d4189bd0d1",
   "metadata": {},
   "outputs": [],
   "source": []
  }
 ],
 "metadata": {
  "kernelspec": {
   "display_name": "Python 3 (ipykernel)",
   "language": "python",
   "name": "python3"
  },
  "language_info": {
   "codemirror_mode": {
    "name": "ipython",
    "version": 3
   },
   "file_extension": ".py",
   "mimetype": "text/x-python",
   "name": "python",
   "nbconvert_exporter": "python",
   "pygments_lexer": "ipython3",
   "version": "3.9.0"
  }
 },
 "nbformat": 4,
 "nbformat_minor": 5
}
